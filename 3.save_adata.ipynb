{
 "cells": [
  {
   "cell_type": "markdown",
   "id": "89d4b5ff",
   "metadata": {},
   "source": [
    "# Save adata objects for macula and periphery \n",
    "### This notebook takes the output from 1.mac_process_4csv.R and 1.per_process_4csv.R and saves in anndata format\n",
    "### The saved anndata object is unfiltered and is filtered in the next step"
   ]
  },
  {
   "cell_type": "code",
   "execution_count": null,
   "id": "4589a2c3-1f52-4cc5-a6a6-6034f3773b87",
   "metadata": {},
   "outputs": [],
   "source": [
    "import scanpy as sc\n",
    "import pandas as pd\n",
    "import anndata as ad\n",
    "import numpy as np\n",
    "import scipy\n",
    "from scipy.sparse import csr_matrix"
   ]
  },
  {
   "cell_type": "code",
   "execution_count": null,
   "id": "6fd1b54c-a69e-4f9b-a25f-d97676a4fe83",
   "metadata": {},
   "outputs": [],
   "source": [
    "# Load sparse matrices and transpose\n",
    "mac_counts = scipy.io.mmread(\"mac_counts_071024.mtx\").T\n",
    "per_counts = scipy.io.mmread(\"per_counts_071024.mtx\").T\n",
    "\n",
    "# Load meta files\n",
    "mac_meta = pd.read_csv(\"macula_barcodes_no.D2QGV_043024.csv\", index_col=0)\n",
    "per_meta = pd.read_csv(\"periph_merged_meta_071024.csv\", index_col=0)\n",
    "\n",
    "# Load gene names\n",
    "genes = pd.read_csv(\"genes.csv\")\n",
    "genes_list = genes.x.tolist()\n",
    "\n",
    "# Get cell lists\n",
    "cells_list_mac = mac_meta.index.tolist()\n",
    "cells_list_per = per_meta.index.tolist()"
   ]
  },
  {
   "cell_type": "code",
   "execution_count": null,
   "id": "2ab0380c-550f-4f25-b641-1070e453e0dd",
   "metadata": {},
   "outputs": [],
   "source": [
    "# Make anndata for macula\n",
    "mac_counts = csr_matrix(mac_counts)\n",
    "anndata = ad.AnnData(mac_counts)\n",
    "\n",
    "# Add layers to the anndata object\n",
    "anndata.obs_names = cells_list_mac\n",
    "anndata.var_names = genes_list\n",
    "anndata.obs = mac_meta\n",
    "\n",
    "# Save as h5ad\n",
    "anndata.write_h5ad('macula_counts_unfilter_071024.h5ad')"
   ]
  },
  {
   "cell_type": "code",
   "execution_count": null,
   "id": "db57d247-3c0e-492e-bf84-a027c40b545c",
   "metadata": {},
   "outputs": [],
   "source": [
    "# Make anndata for periph\n",
    "per_counts = csr_matrix(per_counts)\n",
    "anndata = ad.AnnData(per_counts)\n",
    "\n",
    "# Add layers to the anndata object\n",
    "anndata.obs_names = cells_list_per\n",
    "anndata.var_names = genes_list\n",
    "anndata.obs = per_meta\n",
    "\n",
    "# Save as h5ad\n",
    "anndata.write_h5ad('periph_counts_unfilter_071124.h5ad')"
   ]
  }
 ],
 "metadata": {
  "kernelspec": {
   "display_name": "Python 3 (ipykernel)",
   "language": "python",
   "name": "python3"
  },
  "language_info": {
   "codemirror_mode": {
    "name": "ipython",
    "version": 3
   },
   "file_extension": ".py",
   "mimetype": "text/x-python",
   "name": "python",
   "nbconvert_exporter": "python",
   "pygments_lexer": "ipython3",
   "version": "3.9.12"
  }
 },
 "nbformat": 4,
 "nbformat_minor": 5
}
