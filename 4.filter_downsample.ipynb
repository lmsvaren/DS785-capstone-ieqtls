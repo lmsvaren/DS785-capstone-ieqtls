{
 "cells": [
  {
   "cell_type": "markdown",
   "id": "54c15714",
   "metadata": {},
   "source": []
  },
  {
   "cell_type": "markdown",
   "id": "6d275b04",
   "metadata": {},
   "source": [
    "# Filter and downsample the h5ad files\n",
    "### Downsample count matrices and meta files are saved as CSVs for BayesPrism"
   ]
  },
  {
   "cell_type": "code",
   "execution_count": 2,
   "id": "897f6987-da40-4086-acff-be606f8a61ce",
   "metadata": {},
   "outputs": [],
   "source": [
    "import scanpy as sc\n",
    "import pandas as pd\n",
    "import anndata as ad\n",
    "import numpy as np\n",
    "import scipy\n",
    "from scipy.sparse import csr_matrix"
   ]
  },
  {
   "cell_type": "markdown",
   "id": "b178d5ad",
   "metadata": {},
   "source": [
    "# Macula"
   ]
  },
  {
   "cell_type": "code",
   "execution_count": 2,
   "id": "10ce1805-177f-464b-adeb-652866a6a25c",
   "metadata": {},
   "outputs": [
    {
     "data": {
      "text/plain": [
       "class\n",
       "RGC        75131\n",
       "AC         29855\n",
       "Rods       15550\n",
       "BC-OFF      2716\n",
       "BC-ON       2673\n",
       "MG          1635\n",
       "mlCones      970\n",
       "HC-H1        890\n",
       "HC-H2        179\n",
       "Astro        113\n",
       "sCones        92\n",
       "Name: count, dtype: int64"
      ]
     },
     "execution_count": 2,
     "metadata": {},
     "output_type": "execute_result"
    }
   ],
   "source": [
    "# Load anndata object\n",
    "macula_adata = sc.read_h5ad('macula_counts_unfilter_071024.h5ad')\n",
    "mac_meta = macula_adata.obs\n",
    "\n",
    "# Get cell and gene name lists\n",
    "cells_list = macula_adata.obs_names.tolist()\n",
    "genes_list = macula_adata.var_names.tolist()\n",
    "\n",
    "# Create df to filter\n",
    "mac_df = macula_adata.to_df()\n",
    "\n",
    "# cell type counts BEFORE any filtering\n",
    "mac_meta['class'].value_counts()"
   ]
  },
  {
   "cell_type": "code",
   "execution_count": 3,
   "id": "159ebd72-68a2-492d-8bbe-03611bf9930e",
   "metadata": {},
   "outputs": [
    {
     "data": {
      "text/plain": [
       "class\n",
       "RGC        75124\n",
       "AC         29833\n",
       "Rods       15498\n",
       "BC-OFF      2709\n",
       "BC-ON       2671\n",
       "MG          1627\n",
       "mlCones      968\n",
       "HC-H1        890\n",
       "HC-H2        179\n",
       "Astro        113\n",
       "sCones        92\n",
       "Name: count, dtype: int64"
      ]
     },
     "execution_count": 3,
     "metadata": {},
     "output_type": "execute_result"
    }
   ],
   "source": [
    "#Filter cells to have >= 200 genes\n",
    "sc.pp.filter_cells(macula_adata, min_genes=200) \n",
    "\n",
    "#Filter genes to be expressed in >= 50 cells\n",
    "sc.pp.filter_genes(macula_adata, min_cells=50) \n",
    "\n",
    "macula_adata.obs['class'].value_counts()"
   ]
  },
  {
   "cell_type": "code",
   "execution_count": 5,
   "id": "ae6b5202-9267-41ec-a747-9e573497aadc",
   "metadata": {},
   "outputs": [
    {
     "data": {
      "text/plain": [
       "(129704, 27450)"
      ]
     },
     "execution_count": 5,
     "metadata": {},
     "output_type": "execute_result"
    }
   ],
   "source": [
    "macula_adata.shape"
   ]
  },
  {
   "cell_type": "code",
   "execution_count": 4,
   "id": "b935dff7-5dc7-48a6-a641-73d6518b90c8",
   "metadata": {},
   "outputs": [
    {
     "data": {
      "text/plain": [
       "class\n",
       "RGC        75119\n",
       "AC         29805\n",
       "Rods       15451\n",
       "BC-OFF      2707\n",
       "BC-ON       2666\n",
       "MG          1627\n",
       "mlCones      964\n",
       "HC-H1        889\n",
       "HC-H2        179\n",
       "Astro        113\n",
       "sCones        92\n",
       "Name: count, dtype: int64"
      ]
     },
     "execution_count": 4,
     "metadata": {},
     "output_type": "execute_result"
    }
   ],
   "source": [
    "# Remove >5% mito\n",
    "macula_adata = macula_adata[macula_adata.obs['percent.mt'] < 5]\n",
    "macula_adata.obs['class'].value_counts()"
   ]
  },
  {
   "cell_type": "code",
   "execution_count": 5,
   "id": "46de39b7-d783-4946-a611-0e3c3be6ea3f",
   "metadata": {},
   "outputs": [
    {
     "data": {
      "text/plain": [
       "class\n",
       "RGC        75118\n",
       "AC         29804\n",
       "Rods       15450\n",
       "BC-OFF      2706\n",
       "BC-ON       2665\n",
       "MG          1626\n",
       "mlCones      963\n",
       "HC-H1        888\n",
       "HC-H2        178\n",
       "Astro        112\n",
       "sCones        91\n",
       "Name: count, dtype: int64"
      ]
     },
     "execution_count": 5,
     "metadata": {},
     "output_type": "execute_result"
    }
   ],
   "source": [
    "# Keep top 99.7%\n",
    "mac_meta = macula_adata.obs\n",
    "\n",
    "cell_types = mac_meta['class'].unique().tolist()\n",
    "\n",
    "mac_final = pd.DataFrame()\n",
    "\n",
    "for ct in cell_types:\n",
    "    df = mac_meta[mac_meta['class'] == ct]\n",
    "    max_genes = df['nFeature_RNA'].max()\n",
    "    threshhold = max_genes * 0.997\n",
    "    df_filt = df[df['nFeature_RNA'] < threshhold]\n",
    "\n",
    "    #print(df_filt)\n",
    "\n",
    "    mac_final = pd.concat([mac_final, df_filt], ignore_index=False)\n",
    "\n",
    "mac_final['class'].value_counts()"
   ]
  },
  {
   "cell_type": "code",
   "execution_count": 6,
   "id": "344bccd3-8a9d-491b-b9fd-32c60f3a7140",
   "metadata": {},
   "outputs": [
    {
     "data": {
      "text/plain": [
       "(129601, 27450)"
      ]
     },
     "execution_count": 6,
     "metadata": {},
     "output_type": "execute_result"
    }
   ],
   "source": [
    "# Select cells to keep and genes to keep [cells, genes]\n",
    "cells = mac_final.index.to_list()\n",
    "genes = macula_adata.var.index.to_list() \n",
    "\n",
    "# Filter df\n",
    "mac_filtered = mac_df.loc[cells, genes]\n",
    "\n",
    "mac_filtered.shape"
   ]
  },
  {
   "cell_type": "code",
   "execution_count": 7,
   "id": "c75618b6-6980-48ff-a927-b6e6bcc7aede",
   "metadata": {},
   "outputs": [],
   "source": [
    "# Load gencode v26\n",
    "gencode = pd.read_csv(\"gencode.v26.broad.category.txt\", sep=\"\\t\", header=None)\n",
    "duplicated = pd.read_csv('gencode_duplicated.csv')\n",
    "gencode_filt = gencode[gencode[8].isin(['lincRNA', 'protein_coding'])]\n",
    "gencode_filt = gencode_filt[~gencode_filt[0].isin(['chrY', 'chrX', 'chrM'])]\n",
    "gencode_filt = gencode_filt[~gencode_filt[4].isin(duplicated.x.to_list())]\n",
    "\n",
    "# Filter based off of gencode\n",
    "df_genes = mac_filtered.columns.tolist()\n",
    "merged = gencode_filt[gencode_filt[4].isin(df_genes)] # using gene names\n",
    "to_keep = merged[4]\n",
    "mac_gene_filt = mac_filtered[to_keep]\n",
    "\n",
    "# Make anndata of the filtered data\n",
    "cells_list = mac_final.index.tolist()\n",
    "genes_list = mac_gene_filt.columns.tolist()\n",
    "\n",
    "mac_counts = csr_matrix(mac_gene_filt)\n",
    "anndata = ad.AnnData(mac_counts)\n",
    "\n",
    "anndata.obs_names = cells_list\n",
    "anndata.var_names = genes_list\n",
    "anndata.obs = mac_final\n",
    "anndata.write_h5ad('filter_macula_071124.h5ad')"
   ]
  },
  {
   "cell_type": "code",
   "execution_count": 10,
   "id": "7db27596-781d-447e-9e63-b1873d6634a5",
   "metadata": {},
   "outputs": [
    {
     "data": {
      "text/plain": [
       "(129601, 15097)"
      ]
     },
     "execution_count": 10,
     "metadata": {},
     "output_type": "execute_result"
    }
   ],
   "source": [
    "mac_gene_filt.shape"
   ]
  },
  {
   "cell_type": "code",
   "execution_count": 8,
   "id": "35507b6e-aa41-42ed-9608-b237dc918b4b",
   "metadata": {},
   "outputs": [
    {
     "data": {
      "text/plain": [
       "class\n",
       "RGC        75118\n",
       "AC         29804\n",
       "Rods       15450\n",
       "BC-OFF      2706\n",
       "BC-ON       2665\n",
       "MG          1626\n",
       "mlCones      963\n",
       "HC-H1        888\n",
       "HC-H2        178\n",
       "Astro        112\n",
       "sCones        91\n",
       "Name: count, dtype: int64"
      ]
     },
     "execution_count": 8,
     "metadata": {},
     "output_type": "execute_result"
    }
   ],
   "source": [
    "anndata.obs['class'].value_counts()"
   ]
  },
  {
   "cell_type": "code",
   "execution_count": 11,
   "id": "9783855e-c3e3-46d1-a745-8ffcbc33d132",
   "metadata": {},
   "outputs": [],
   "source": [
    "# Subset \n",
    "rgc = anndata[anndata.obs['class'].isin(['RGC'])]\n",
    "ac = anndata[anndata.obs['class'].isin(['AC'])]\n",
    "rods = anndata[anndata.obs['class'].isin(['Rods'])]\n",
    "rest = anndata[~anndata.obs['class'].isin(['RGC', 'AC', 'Rods'])]\n",
    "\n",
    "# Subsample to <5000\n",
    "sc.pp.subsample(rgc, fraction=0.06)\n",
    "sc.pp.subsample(ac, fraction=0.16)\n",
    "sc.pp.subsample(rods, fraction=0.32)\n",
    "\n",
    "# Merge them again\n",
    "merged = ad.concat([rgc, ac, rods, rest])\n",
    "merged.obs['class'].value_counts()\n",
    "\n",
    "# Get updated meta and df\n",
    "meta = merged.obs\n",
    "cells = meta.index.tolist()\n",
    "genes = to_keep\n",
    "df = mac_filtered.loc[cells, genes]\n",
    "\n",
    "# Save\n",
    "meta.to_csv('meta_downsample5k_macula_071124.csv')\n",
    "df.to_csv('downsample5k_macula_071124.csv')"
   ]
  },
  {
   "cell_type": "code",
   "execution_count": 10,
   "id": "2538247b-980c-419e-974c-ec827146039a",
   "metadata": {},
   "outputs": [
    {
     "data": {
      "text/plain": [
       "class\n",
       "Rods       4944\n",
       "AC         4768\n",
       "RGC        4507\n",
       "BC-OFF     2706\n",
       "BC-ON      2665\n",
       "MG         1626\n",
       "mlCones     963\n",
       "HC-H1       888\n",
       "HC-H2       178\n",
       "Astro       112\n",
       "sCones       91\n",
       "Name: count, dtype: int64"
      ]
     },
     "execution_count": 10,
     "metadata": {},
     "output_type": "execute_result"
    }
   ],
   "source": [
    "meta['class'].value_counts()"
   ]
  },
  {
   "cell_type": "markdown",
   "id": "b2fdc6f4-5d2a-4817-aa27-6fb3b6940eae",
   "metadata": {},
   "source": [
    "# PERIPHERAL"
   ]
  },
  {
   "cell_type": "code",
   "execution_count": 14,
   "id": "f55f6e57-dcaa-4c2a-ae9f-3dad67e57a61",
   "metadata": {},
   "outputs": [
    {
     "data": {
      "text/plain": [
       "class\n",
       "Rods       21935\n",
       "AC         20936\n",
       "RGC         4901\n",
       "BC-ON       2260\n",
       "BC-OFF      1477\n",
       "MG          1438\n",
       "mlCones      966\n",
       "HC-H1        482\n",
       "Astro        350\n",
       "HC-H2        203\n",
       "sCones        56\n",
       "Name: count, dtype: int64"
      ]
     },
     "execution_count": 14,
     "metadata": {},
     "output_type": "execute_result"
    }
   ],
   "source": [
    "# Load anndata object\n",
    "periph_adata = sc.read_h5ad('periph_counts_unfilter_071124.h5ad')\n",
    "per_meta = periph_adata.obs\n",
    "\n",
    "# Get cell and gene name lists\n",
    "cells_list = periph_adata.obs_names.tolist()\n",
    "genes_list = periph_adata.var_names.tolist()\n",
    "\n",
    "# Create df to filter\n",
    "per_df = periph_adata.to_df()\n",
    "\n",
    "# cell type counts BEFORE any filtering\n",
    "periph_adata.obs['class'].value_counts()"
   ]
  },
  {
   "cell_type": "code",
   "execution_count": 15,
   "id": "78b71a6e-02ce-444d-93d4-b7a3778669f8",
   "metadata": {},
   "outputs": [
    {
     "data": {
      "text/plain": [
       "class\n",
       "Rods       21923\n",
       "AC         20924\n",
       "RGC         4898\n",
       "BC-ON       2260\n",
       "BC-OFF      1474\n",
       "MG          1437\n",
       "mlCones      960\n",
       "HC-H1        482\n",
       "Astro        350\n",
       "HC-H2        203\n",
       "sCones        56\n",
       "Name: count, dtype: int64"
      ]
     },
     "execution_count": 15,
     "metadata": {},
     "output_type": "execute_result"
    }
   ],
   "source": [
    "#Filter cells to have >= 200 genes\n",
    "sc.pp.filter_cells(periph_adata, min_genes=200)\n",
    "\n",
    "#Filter genes to be expressed in >= 50 cells\n",
    "sc.pp.filter_genes(periph_adata, min_cells=50) \n",
    "\n",
    "periph_adata.obs['class'].value_counts()"
   ]
  },
  {
   "cell_type": "code",
   "execution_count": 114,
   "id": "db650a64-4751-4ad1-9b13-5e552a2cc293",
   "metadata": {},
   "outputs": [
    {
     "data": {
      "text/plain": [
       "(54967, 22835)"
      ]
     },
     "execution_count": 114,
     "metadata": {},
     "output_type": "execute_result"
    }
   ],
   "source": [
    "periph_adata.shape"
   ]
  },
  {
   "cell_type": "code",
   "execution_count": 16,
   "id": "eba1f625-c15b-4901-8182-3c117927eb2c",
   "metadata": {},
   "outputs": [
    {
     "data": {
      "text/plain": [
       "class\n",
       "Rods       21919\n",
       "AC         20897\n",
       "RGC         4897\n",
       "BC-ON       2260\n",
       "BC-OFF      1473\n",
       "MG          1433\n",
       "mlCones      960\n",
       "HC-H1        482\n",
       "Astro        350\n",
       "HC-H2        203\n",
       "sCones        56\n",
       "Name: count, dtype: int64"
      ]
     },
     "execution_count": 16,
     "metadata": {},
     "output_type": "execute_result"
    }
   ],
   "source": [
    "# Remove >5% mito\n",
    "periph_adata = periph_adata[periph_adata.obs['percent.mt'] < 5]\n",
    "periph_adata.obs['class'].value_counts()"
   ]
  },
  {
   "cell_type": "code",
   "execution_count": 17,
   "id": "d0b5fa61-ed54-458e-a12c-c03eb293e289",
   "metadata": {},
   "outputs": [
    {
     "data": {
      "text/plain": [
       "class\n",
       "Rods       21918\n",
       "AC         20896\n",
       "RGC         4896\n",
       "BC-ON       2259\n",
       "BC-OFF      1472\n",
       "MG          1432\n",
       "mlCones      959\n",
       "HC-H1        481\n",
       "Astro        349\n",
       "HC-H2        202\n",
       "sCones        55\n",
       "Name: count, dtype: int64"
      ]
     },
     "execution_count": 17,
     "metadata": {},
     "output_type": "execute_result"
    }
   ],
   "source": [
    "# Keep top 99.7%\n",
    "per_meta = periph_adata.obs\n",
    "\n",
    "cell_types = per_meta['class'].unique().tolist()\n",
    "\n",
    "per_final = pd.DataFrame()\n",
    "\n",
    "for ct in cell_types:\n",
    "    df = per_meta[per_meta['class'] == ct]\n",
    "    max_genes = df['nFeature_RNA'].max()\n",
    "    threshhold = max_genes * 0.997\n",
    "    df_filt = df[df['nFeature_RNA'] < threshhold]\n",
    "\n",
    "    #print(df_filt)\n",
    "\n",
    "    per_final = pd.concat([per_final, df_filt], ignore_index=False)\n",
    "\n",
    "per_final['class'].value_counts()"
   ]
  },
  {
   "cell_type": "code",
   "execution_count": 18,
   "id": "376ef4cc-1244-494d-8e12-9bd818cb1f26",
   "metadata": {},
   "outputs": [
    {
     "data": {
      "text/plain": [
       "(54919, 22835)"
      ]
     },
     "execution_count": 18,
     "metadata": {},
     "output_type": "execute_result"
    }
   ],
   "source": [
    "# Select cells to keep and genes to keep [cells, genes]\n",
    "cells = per_final.index.to_list()\n",
    "genes = periph_adata.var.index.to_list() \n",
    "\n",
    "# Filter df\n",
    "per_filtered = per_df.loc[cells, genes]\n",
    "\n",
    "per_filtered.shape"
   ]
  },
  {
   "cell_type": "code",
   "execution_count": 19,
   "id": "b5d3a714-8e39-4df2-8355-3fbc0ae3e0ef",
   "metadata": {},
   "outputs": [],
   "source": [
    "# Load gencode v26\n",
    "gencode = pd.read_csv(\"gencode.v26.broad.category.txt\", sep=\"\\t\", header=None)\n",
    "duplicated = pd.read_csv('gencode_duplicated.csv')\n",
    "gencode_filt = gencode[gencode[8].isin(['lincRNA', 'protein_coding'])]\n",
    "gencode_filt = gencode_filt[~gencode_filt[0].isin(['chrY', 'chrX', 'chrM'])]\n",
    "gencode_filt = gencode_filt[~gencode_filt[4].isin(duplicated.x.to_list())]\n",
    "\n",
    "# Filter based off of gencode\n",
    "df_genes = per_filtered.columns.tolist()\n",
    "merged = gencode_filt[gencode_filt[4].isin(df_genes)] # using gene names\n",
    "to_keep = merged[4]\n",
    "per_gene_filt = per_filtered[to_keep]"
   ]
  },
  {
   "cell_type": "code",
   "execution_count": 121,
   "id": "5cde0f27-6cae-42b6-b423-2fe61c66969e",
   "metadata": {},
   "outputs": [
    {
     "data": {
      "text/plain": [
       "(54919, 14056)"
      ]
     },
     "execution_count": 121,
     "metadata": {},
     "output_type": "execute_result"
    }
   ],
   "source": [
    "per_gene_filt.shape"
   ]
  },
  {
   "cell_type": "code",
   "execution_count": 22,
   "id": "d545c6c4-0763-45aa-8fdc-2017ae14b4a5",
   "metadata": {},
   "outputs": [],
   "source": [
    "# Make anndata of the filtered data\n",
    "cells_list = per_final.index.tolist()\n",
    "genes_list = per_gene_filt.columns.tolist()\n",
    "\n",
    "per_counts = csr_matrix(per_gene_filt)\n",
    "anndata = ad.AnnData(per_counts)\n",
    "\n",
    "anndata.obs_names = cells_list\n",
    "anndata.var_names = genes_list\n",
    "anndata.obs = per_final\n",
    "\n",
    "# Subset rods and AC\n",
    "rods_ac = anndata[anndata.obs['class'].isin(['Rods', 'AC'])]\n",
    "rest = anndata[~anndata.obs['class'].isin(['Rods', 'AC'])]\n",
    "\n",
    "# Subsample to <5000\n",
    "sc.pp.subsample(rods_ac, fraction=0.2)\n",
    "\n",
    "# Merge them again\n",
    "merged = ad.concat([rods_ac, rest])\n",
    "merged.obs['class'].value_counts()\n",
    "\n",
    "# Get updated meta and df\n",
    "meta = merged.obs\n",
    "cells = meta.index.tolist()\n",
    "genes = to_keep\n",
    "df = per_filtered.loc[cells, genes]\n",
    "\n",
    "# Save\n",
    "meta.to_csv('meta_downsample5k_periph_071124.csv')\n",
    "df.to_csv('downsample5k_periph_071124.csv')"
   ]
  },
  {
   "cell_type": "code",
   "execution_count": 21,
   "id": "62d9e5f7-592c-41c7-b9e4-c8a905058a88",
   "metadata": {},
   "outputs": [
    {
     "data": {
      "text/plain": [
       "class\n",
       "RGC        4896\n",
       "Rods       4378\n",
       "AC         4184\n",
       "BC-ON      2259\n",
       "BC-OFF     1472\n",
       "MG         1432\n",
       "mlCones     959\n",
       "HC-H1       481\n",
       "Astro       349\n",
       "HC-H2       202\n",
       "sCones       55\n",
       "Name: count, dtype: int64"
      ]
     },
     "execution_count": 21,
     "metadata": {},
     "output_type": "execute_result"
    }
   ],
   "source": [
    "meta['class'].value_counts()"
   ]
  }
 ],
 "metadata": {
  "kernelspec": {
   "display_name": "Python 3 (ipykernel)",
   "language": "python",
   "name": "python3"
  },
  "language_info": {
   "codemirror_mode": {
    "name": "ipython",
    "version": 3
   },
   "file_extension": ".py",
   "mimetype": "text/x-python",
   "name": "python",
   "nbconvert_exporter": "python",
   "pygments_lexer": "ipython3",
   "version": "3.9.12"
  }
 },
 "nbformat": 4,
 "nbformat_minor": 5
}
